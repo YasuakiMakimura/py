{
 "cells": [
  {
   "cell_type": "markdown",
   "metadata": {},
   "source": [
    "# 特殊メソッドgetstate, setstateの使い方\n",
    "\n",
    "\n"
   ]
  },
  {
   "cell_type": "markdown",
   "metadata": {},
   "source": [
    "Pickle 化できないオブジェクトがメンバ変数に含まれる時点でお手上げかというとそうではない。 Python ではこの問題に対処するための方法が用意されている。 それが特殊メソッド __getstate__() と __setstate__() を使うやり方だ。 このふたつの特殊メソッドはオブジェクトが Pickle 化・非 Pickle 化される際の処理に対応している。 つまり、その挙動をオーバーライドできるということだ。\n",
    "\n",
    "次のサンプルコードではユーザ定義クラス Sample に __getstate__() と __setstate__() を実装することで Pickle 化できるようにしている。 具体的な処理としては、Pickle 化されるときに呼ばれる __getstate__() で Pickle 化できないオブジェクトを Pickle 化の対象から除外している。 そして、非 Pickle 化されるときに呼ばれる __setstate__() では、ファイル名からファイルオブジェクトを改めて作りなおしている。 尚、非 Pickle 化される際には __init__() メソッドは呼ばれない点に注意が必要となる。"
   ]
  },
  {
   "cell_type": "code",
   "execution_count": null,
   "metadata": {},
   "outputs": [],
   "source": [
    "import pickle\n",
    "\n",
    "\n",
    "class Sample(object):\n",
    "\n",
    "    def __init__(self, filename):\n",
    "        \"\"\"非 Pickle 化されるときは呼ばれない\"\"\"\n",
    "\n",
    "        # 文字列は Pickle 化できる\n",
    "        self.filename = filename\n",
    "\n",
    "        # ファイルオブジェクトは Pickle 化できない\n",
    "        self.file = open(filename, mode='rb')\n",
    "\n",
    "    def __getstate__(self):\n",
    "        \"\"\"Pickle 化されるとき呼ばれる\"\"\"\n",
    "\n",
    "        # オブジェクトの持つ属性をコピーする\n",
    "        state = self.__dict__.copy()\n",
    "\n",
    "        # Pickle 化できない属性を除去する\n",
    "        del state['file']\n",
    "\n",
    "        # Pickle 化する属性を返す\n",
    "        return state\n",
    "\n",
    "    def __setstate__(self, state):\n",
    "        \"\"\"非 Pickle 化されるとき呼ばれる\"\"\"\n",
    "\n",
    "        # オブジェクトの持つ属性を復元する\n",
    "        self.__dict__.update(state)\n",
    "\n",
    "        # Pickle 化できなかった属性を作りなおす\n",
    "        self.file = open(self.filename, mode='rb')\n",
    "\n",
    "\n",
    "def main():\n",
    "    obj = Sample('/dev/null')\n",
    "    binary = pickle.dumps(obj)\n",
    "    restored_obj = pickle.loads(binary)\n",
    "    print(restored_obj.filename)\n",
    "    print(restored_obj.file)\n",
    "\n",
    "\n",
    "if __name__ == '__main__':\n",
    "    main()"
   ]
  }
 ],
 "metadata": {
  "kernelspec": {
   "display_name": "Python 3",
   "language": "python",
   "name": "python3"
  },
  "language_info": {
   "codemirror_mode": {
    "name": "ipython",
    "version": 3
   },
   "file_extension": ".py",
   "mimetype": "text/x-python",
   "name": "python",
   "nbconvert_exporter": "python",
   "pygments_lexer": "ipython3",
   "version": "3.6.5"
  }
 },
 "nbformat": 4,
 "nbformat_minor": 2
}
