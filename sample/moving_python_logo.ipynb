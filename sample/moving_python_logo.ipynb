{
 "cells": [
  {
   "cell_type": "code",
   "execution_count": 1,
   "metadata": {},
   "outputs": [
    {
     "ename": "SystemExit",
     "evalue": "",
     "output_type": "error",
     "traceback": [
      "An exception has occurred, use %tb to see the full traceback.\n",
      "\u001b[0;31mSystemExit\u001b[0m\n"
     ]
    },
    {
     "name": "stderr",
     "output_type": "stream",
     "text": [
      "/home/maki/.anyenv/envs/pyenv/versions/anaconda3-5.2.0/lib/python3.6/site-packages/IPython/core/interactiveshell.py:2971: UserWarning: To exit: use 'exit', 'quit', or Ctrl-D.\n",
      "  warn(\"To exit: use 'exit', 'quit', or Ctrl-D.\", stacklevel=1)\n"
     ]
    }
   ],
   "source": [
    "#!/usr/bin/env python\n",
    "# -*- coding: utf-8 -*-\n",
    "import pygame\n",
    "from pygame.locals import *\n",
    "import sys\n",
    " \n",
    "SCR_WIDTH,SCR_HEIGHT = 640,480\n",
    " \n",
    "pygame.init()\n",
    "screen = pygame.display.set_mode((SCR_WIDTH,SCR_HEIGHT))\n",
    "pygame.display.set_caption(u\"画像の移動と跳ね返り処理\")\n",
    " \n",
    "img = pygame.image.load(\"python.jpeg\").convert_alpha()\n",
    "img_rect = img.get_rect()\n",
    " \n",
    "vx = vy = 2  # 1フレームの移動ピクセル\n",
    "clock = pygame.time.Clock()\n",
    " \n",
    "while True:\n",
    "    clock.tick(60)  # 60fps\n",
    "    \n",
    "    # 画像の移動\n",
    "    img_rect.move_ip(vx, vy)\n",
    "    # 跳ね返り処理\n",
    "    if img_rect.left < 0 or img_rect.right > SCR_WIDTH:\n",
    "        vx = -vx\n",
    "    if img_rect.top < 0 or img_rect.bottom > SCR_HEIGHT:\n",
    "        vy = -vy\n",
    "    \n",
    "    screen.fill((0,0,255))\n",
    "    screen.blit(img, img_rect)\n",
    "    pygame.display.update()\n",
    "    \n",
    "    for event in pygame.event.get():\n",
    "        if event.type == QUIT: \n",
    "            pygame.quit()\n",
    "            sys.exit()\n",
    "        if event.type == KEYDOWN and event.key == K_ESCAPE: sys.exit()"
   ]
  },
  {
   "cell_type": "code",
   "execution_count": null,
   "metadata": {},
   "outputs": [],
   "source": []
  }
 ],
 "metadata": {
  "kernelspec": {
   "display_name": "Python 3",
   "language": "python",
   "name": "python3"
  },
  "language_info": {
   "codemirror_mode": {
    "name": "ipython",
    "version": 3
   },
   "file_extension": ".py",
   "mimetype": "text/x-python",
   "name": "python",
   "nbconvert_exporter": "python",
   "pygments_lexer": "ipython3",
   "version": "3.6.5"
  }
 },
 "nbformat": 4,
 "nbformat_minor": 2
}
