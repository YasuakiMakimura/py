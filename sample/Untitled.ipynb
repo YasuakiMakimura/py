{
 "cells": [
  {
   "cell_type": "code",
   "execution_count": 4,
   "metadata": {},
   "outputs": [],
   "source": [
    "import os, sys, math, pygame, pygame.mixer\n",
    "# from pygame.locals import *\n",
    "from pygame.locals import QUIT, KEYDOWN, KEYUP, K_RIGHT, K_LEFT, K_UP, K_DOWN, K_ESCAPE\n",
    "\n",
    "\n",
    "black = (0,0,0)\n",
    "red = (255,0,0)\n",
    "green = (0,255,0)\n",
    "blue = (0,0,255)\n",
    "white = (255,255,255)\n",
    "run_me = True\n",
    "\n",
    "screen_size = screen_width, screen_height = 600, 400\n",
    "screen = pygame.display.set_mode(screen_size)\n",
    "pygame.display.set_caption('ha ha ha ha ha')\n",
    "\n",
    "clock = pygame.time.Clock()\n",
    "fps_limit = 60\n",
    "\n",
    "#circle \n",
    "colorcircle = (red)\n",
    "posx = 300\n",
    "posy = 200\n",
    "circle = pygame.draw.circle(screen, colorcircle, (posx, posy), 50)\n",
    "\n",
    "while run_me:\n",
    "    clock.tick(fps_limit) \n",
    "\n",
    "\n",
    "    for event in pygame.event.get():\n",
    "        if event.type == pygame.QUIT:\n",
    "            run_me = False\n",
    "        if event.type == pygame.KEYDOWN:\n",
    "            if event.key == pygame.K_LEFT:\n",
    "                posx = posx - 10\n",
    "        if event.type == pygame.KEYDOWN:\n",
    "            if event.key == pygame.K_RIGHT:\n",
    "                posx = posx + 10\n",
    "        if event.type == pygame.KEYDOWN:\n",
    "            if event.key == pygame.K_UP:\n",
    "                posy = posy + 10\n",
    "        if event.type == pygame.KEYDOWN:\n",
    "            if event.key == pygame.K_DOWN:\n",
    "                posy = posy - 10\n",
    "\n",
    "    pygame.display.flip()\n",
    "\n",
    "pygame.quit()"
   ]
  },
  {
   "cell_type": "code",
   "execution_count": null,
   "metadata": {},
   "outputs": [],
   "source": []
  }
 ],
 "metadata": {
  "kernelspec": {
   "display_name": "Python 3",
   "language": "python",
   "name": "python3"
  },
  "language_info": {
   "codemirror_mode": {
    "name": "ipython",
    "version": 3
   },
   "file_extension": ".py",
   "mimetype": "text/x-python",
   "name": "python",
   "nbconvert_exporter": "python",
   "pygments_lexer": "ipython3",
   "version": "3.6.5"
  }
 },
 "nbformat": 4,
 "nbformat_minor": 2
}
