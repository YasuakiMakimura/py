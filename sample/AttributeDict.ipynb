{
 "cells": [
  {
   "cell_type": "markdown",
   "metadata": {},
   "source": [
    "# object.key = valueという形で辞書型にアクセスさせるためのオブジェクトの生成"
   ]
  },
  {
   "cell_type": "code",
   "execution_count": 1,
   "metadata": {},
   "outputs": [],
   "source": [
    "# __getattr__ 未定義のメンバーにアクセスする際に呼び出される\n",
    "# __getattribute__ 未定義、定義済み関わらず、全てのメンバーアクセスで呼び出される。\n",
    "class DotAccessible(object):\n",
    "    \"\"\"オブジェクトグラフ内の辞書要素をプロパティ風にアクセスすることを可能にするラッパー。\n",
    "        DotAccessible( { 'foo' : 42 } ).foo==42\n",
    "\n",
    "    メンバーを帰納的にワップすることによりこの挙動を下層オブジェクトにも与える。\n",
    "        DotAccessible( { 'lst' : [ { 'foo' : 42 } ] } ).lst[0].foo==42\n",
    "    \"\"\"\n",
    "\n",
    "    def __init__(self, obj):\n",
    "        self.obj=obj\n",
    "\n",
    "    def __repr__(self):\n",
    "        return \"DotAccessible(%s)\" % repr(self.obj)\n",
    "\n",
    "    def __getitem__(self, i):\n",
    "        \"\"\"リストメンバーをラップ\"\"\"\n",
    "        return self.wrap(self.obj[i])\n",
    "\n",
    "    def __getslice__(self, i, j):\n",
    "        \"\"\"リストメンバーをラップ\"\"\"\n",
    "\n",
    "        return map(self.wrap, self.obj.__getslice__(i,j))\n",
    "    \n",
    "    def __getattr__(self, key):\n",
    "        \"\"\"辞書メンバーをプロパティとしてアクセス可能にする。\n",
    "        辞書キーと同じ名のプロパティはアクセス不可になる。\n",
    "        \"\"\"\n",
    "\n",
    "        if isinstance(self.obj, dict):\n",
    "            try:\n",
    "                v=self.obj[key]\n",
    "            except KeyError:\n",
    "                \n",
    "                v=self.obj.__getattribute__(key)\n",
    "        else:\n",
    "            v=self.obj.__getattribute__(key)\n",
    "\n",
    "        return self.wrap(v)\n",
    "\n",
    "    def wrap(self, v):\n",
    "        \"\"\"要素をラップするためのヘルパー\"\"\"\n",
    "\n",
    "        if isinstance(v, (dict,list,tuple)): # xx add set\n",
    "            return self.__class__(v)\n",
    "        return v"
   ]
  }
 ],
 "metadata": {
  "kernelspec": {
   "display_name": "Python 3",
   "language": "python",
   "name": "python3"
  },
  "language_info": {
   "codemirror_mode": {
    "name": "ipython",
    "version": 3
   },
   "file_extension": ".py",
   "mimetype": "text/x-python",
   "name": "python",
   "nbconvert_exporter": "python",
   "pygments_lexer": "ipython3",
   "version": "3.6.5"
  }
 },
 "nbformat": 4,
 "nbformat_minor": 2
}
