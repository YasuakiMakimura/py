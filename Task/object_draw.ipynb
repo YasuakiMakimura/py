{
 "cells": [
  {
   "cell_type": "code",
   "execution_count": 1,
   "metadata": {},
   "outputs": [],
   "source": [
    "import pygame\n",
    "from pygame.locals import *\n",
    "import pygame.mixer\n",
    "\n",
    "def circle(surface, c, pos, r, line_width=0):\n",
    "    \"\"\"\n",
    "    pygame 円を描写する\n",
    "    :param surface:描くフィールドのインスタンス\n",
    "    :param c: 円の色\n",
    "    :param pos: 円のポジション\n",
    "    :param r: 円の半径\n",
    "    :param line_width:円の枠線の幅、デフォルトは0だが幅を指定すると枠線だけの円(塗りつぶしなし)となる\n",
    "    :return: pygame.draw.circle(surface, color, pos, r, line_width)\n",
    "    \"\"\"\n",
    "    return pygame.draw.circle(surface, c, pos, r, line_width)\n",
    "\n"
   ]
  },
  {
   "cell_type": "code",
   "execution_count": 6,
   "metadata": {},
   "outputs": [],
   "source": [
    "def main():\n",
    "    pygame.init()\n",
    "    surface = pygame.display.set_mode((400, 400))\n",
    "    surface.fill((255, 255, 255))\n",
    "    circle(surface, (255,0,0), (200, 200), 20)\n",
    "    pygame.display.update()"
   ]
  },
  {
   "cell_type": "code",
   "execution_count": 7,
   "metadata": {},
   "outputs": [],
   "source": [
    "main()"
   ]
  },
  {
   "cell_type": "code",
   "execution_count": null,
   "metadata": {},
   "outputs": [],
   "source": []
  }
 ],
 "metadata": {
  "kernelspec": {
   "display_name": "Python 3",
   "language": "python",
   "name": "python3"
  },
  "language_info": {
   "codemirror_mode": {
    "name": "ipython",
    "version": 3
   },
   "file_extension": ".py",
   "mimetype": "text/x-python",
   "name": "python",
   "nbconvert_exporter": "python",
   "pygments_lexer": "ipython3",
   "version": "3.6.5"
  }
 },
 "nbformat": 4,
 "nbformat_minor": 2
}
