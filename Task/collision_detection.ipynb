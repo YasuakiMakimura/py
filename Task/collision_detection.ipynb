{
 "cells": [
  {
   "cell_type": "code",
   "execution_count": null,
   "metadata": {},
   "outputs": [],
   "source": [
    "import sys\n",
    "import pygame\n",
    "\n",
    "\n",
    "\n",
    "# 円と円のあたり判定\n",
    "def circle_hit_circle(x0, y0, r0, x1, y1, r1):\n",
    "    dx = x0 - x1\n",
    "    dy = y0 - y1\n",
    "    r = r0 + r1\n",
    "    return (dx * dx + dy * dy) <= (r * r)\n",
    "\n",
    "\n",
    "pygame.init()\n",
    "screen = pygame.display.set_mode((320, 240))\n",
    "clock = pygame.time.Clock()\n",
    "\n",
    "# 円のパラメータ\n",
    "circle0_pos_x = 0\n",
    "circle0_pos_y = 120\n",
    "circle0_radius = 80\n",
    "circle1_pos_x = 180\n",
    "circle1_pos_y = 180\n",
    "circle1_radius = 40\n",
    "\n",
    "quit_game = False\n",
    "while not quit_game:\n",
    "    for event in pygame.event.get():\n",
    "        if event.type == pygame.QUIT:\n",
    "            quit_game = True\n",
    "\n",
    "    # 円の移動\n",
    "    circle0_pos_x += 1\n",
    "    if circle0_pos_x > (320 + circle0_radius):\n",
    "        circle0_pos_x = -circle0_radius\n",
    "\n",
    "    # 円の描画色\n",
    "    color = pygame.Color('white')\n",
    "\n",
    "    # 円の衝突判定\n",
    "    if circle_hit_circle(circle0_pos_x, circle0_pos_y, circle0_radius,\n",
    "                         circle1_pos_x, circle1_pos_y, circle1_radius):\n",
    "        color = (255, 0, 0)  # 当たってたら赤くする\n",
    "\n",
    "    screen.fill((0, 0, 0))\n",
    "\n",
    "    # 円の描画\n",
    "    pygame.draw.circle(screen, color, (circle0_pos_x, circle0_pos_y), circle0_radius, 1)\n",
    "    pygame.draw.circle(screen, color, (circle1_pos_x, circle1_pos_y), circle1_radius, 1)\n",
    "    \n",
    "    pygame.display.update()\n",
    "    clock.tick(60)\n",
    "\n",
    "pygame.quit()\n",
    "sys.exit(0)"
   ]
  },
  {
   "cell_type": "code",
   "execution_count": null,
   "metadata": {},
   "outputs": [],
   "source": []
  }
 ],
 "metadata": {
  "kernelspec": {
   "display_name": "Python 3",
   "language": "python",
   "name": "python3"
  },
  "language_info": {
   "codemirror_mode": {
    "name": "ipython",
    "version": 3
   },
   "file_extension": ".py",
   "mimetype": "text/x-python",
   "name": "python",
   "nbconvert_exporter": "python",
   "pygments_lexer": "ipython3",
   "version": "3.6.5"
  }
 },
 "nbformat": 4,
 "nbformat_minor": 2
}
